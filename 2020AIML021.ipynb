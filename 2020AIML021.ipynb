{
 "cells": [
  {
   "cell_type": "markdown",
   "metadata": {},
   "source": [
    "## Q.2\n",
    "#### Solve the following matrix using simultaneous equations in python\n",
    "\n",
    "6x+2y−5z=13\n",
    "3x+3y−2z=13\n",
    "7x+5y−3z=26"
   ]
  },
  {
   "cell_type": "code",
   "execution_count": 1,
   "metadata": {},
   "outputs": [],
   "source": [
    "# Making imports\n",
    "import numpy as np"
   ]
  },
  {
   "cell_type": "code",
   "execution_count": 2,
   "metadata": {},
   "outputs": [],
   "source": [
    "#Initialize Matrices to array\n",
    "A = np.array([[6,2,-5],[3,3,-2],[7,5,-3]])\n",
    "B = np.array([[13],[13],[26]])"
   ]
  },
  {
   "cell_type": "code",
   "execution_count": 3,
   "metadata": {},
   "outputs": [
    {
     "name": "stdout",
     "output_type": "stream",
     "text": [
      "[[ 6  2 -5]\n",
      " [ 3  3 -2]\n",
      " [ 7  5 -3]]\n",
      "[[13]\n",
      " [13]\n",
      " [26]]\n",
      "[[ 0.03846154 -0.73076923  0.42307692]\n",
      " [-0.19230769  0.65384615 -0.11538462]\n",
      " [-0.23076923 -0.61538462  0.46153846]]\n"
     ]
    }
   ],
   "source": [
    "#Compute matrix inverse\n",
    "Ainv = np.linalg.inv(A) \n",
    "print(A) \n",
    "print(B)\n",
    "print(Ainv)"
   ]
  },
  {
   "cell_type": "code",
   "execution_count": 4,
   "metadata": {},
   "outputs": [
    {
     "name": "stdout",
     "output_type": "stream",
     "text": [
      "[[2.]\n",
      " [3.]\n",
      " [1.]]\n"
     ]
    }
   ],
   "source": [
    "#Resolve for x,y,z by computing dot product of matrices Ainv and B(Ainv.B)\n",
    "X = np.dot(Ainv,B)\n",
    "print(X)\n",
    "#Results -x = X[0], y=X[1], z= X[2]"
   ]
  },
  {
   "cell_type": "markdown",
   "metadata": {},
   "source": [
    "## Q.3\n",
    "#### The following dataset of size n = 63 provides total payment (in thousands)for all the claims of Swedish Kronor for geographical zones in Sweden. The variables are y = total payment in thousands and x = number of claims. Find the intercept, coefficient value and error term for this regression problem. How would you convey these numbers in a business context?"
   ]
  },
  {
   "cell_type": "code",
   "execution_count": 5,
   "metadata": {},
   "outputs": [],
   "source": [
    "#Making imports\n",
    "\n",
    "import pandas as pd\n",
    "import numpy as np\n",
    "import matplotlib.pyplot as plt\n",
    "import math"
   ]
  },
  {
   "cell_type": "code",
   "execution_count": 6,
   "metadata": {},
   "outputs": [],
   "source": [
    "# Read the dataset\n",
    "dataset = pd.read_csv('slr06-1.csv')"
   ]
  },
  {
   "cell_type": "code",
   "execution_count": 7,
   "metadata": {},
   "outputs": [
    {
     "data": {
      "text/html": [
       "<div>\n",
       "<style scoped>\n",
       "    .dataframe tbody tr th:only-of-type {\n",
       "        vertical-align: middle;\n",
       "    }\n",
       "\n",
       "    .dataframe tbody tr th {\n",
       "        vertical-align: top;\n",
       "    }\n",
       "\n",
       "    .dataframe thead th {\n",
       "        text-align: right;\n",
       "    }\n",
       "</style>\n",
       "<table border=\"1\" class=\"dataframe\">\n",
       "  <thead>\n",
       "    <tr style=\"text-align: right;\">\n",
       "      <th></th>\n",
       "      <th>X</th>\n",
       "      <th>Y</th>\n",
       "    </tr>\n",
       "  </thead>\n",
       "  <tbody>\n",
       "    <tr>\n",
       "      <th>0</th>\n",
       "      <td>108</td>\n",
       "      <td>392.5</td>\n",
       "    </tr>\n",
       "    <tr>\n",
       "      <th>1</th>\n",
       "      <td>19</td>\n",
       "      <td>46.2</td>\n",
       "    </tr>\n",
       "    <tr>\n",
       "      <th>2</th>\n",
       "      <td>13</td>\n",
       "      <td>15.7</td>\n",
       "    </tr>\n",
       "    <tr>\n",
       "      <th>3</th>\n",
       "      <td>124</td>\n",
       "      <td>422.2</td>\n",
       "    </tr>\n",
       "    <tr>\n",
       "      <th>4</th>\n",
       "      <td>40</td>\n",
       "      <td>119.4</td>\n",
       "    </tr>\n",
       "  </tbody>\n",
       "</table>\n",
       "</div>"
      ],
      "text/plain": [
       "     X      Y\n",
       "0  108  392.5\n",
       "1   19   46.2\n",
       "2   13   15.7\n",
       "3  124  422.2\n",
       "4   40  119.4"
      ]
     },
     "execution_count": 7,
     "metadata": {},
     "output_type": "execute_result"
    }
   ],
   "source": [
    "dataset.head()"
   ]
  },
  {
   "cell_type": "code",
   "execution_count": 8,
   "metadata": {},
   "outputs": [
    {
     "name": "stdout",
     "output_type": "stream",
     "text": [
      "(63, 1)\n",
      "(63, 1)\n"
     ]
    }
   ],
   "source": [
    "x= dataset['X'].values.reshape(-1,1)\n",
    "y= dataset['Y'].values.reshape(-1,1)\n",
    "# View the size of the arrays X and Y\n",
    "print(x.shape)\n",
    "print(y.shape)"
   ]
  },
  {
   "cell_type": "code",
   "execution_count": 9,
   "metadata": {},
   "outputs": [
    {
     "data": {
      "image/png": "[encoded data removed]",
      "text/plain": [
       "<Figure size 432x288 with 1 Axes>"
      ]
     },
     "metadata": {
      "needs_background": "light"
     },
     "output_type": "display_data"
    }
   ],
   "source": [
    "# Visualize the dataset\n",
    "plt.scatter(x, y, color='blue')\n",
    "plt.title('Number of Claims VS Total payment in thousands (Observations)')\n",
    "plt.xlabel('Number of Claims')\n",
    "plt.ylabel('Total payment in thousands')\n",
    "plt.show()"
   ]
  },
  {
   "cell_type": "code",
   "execution_count": 10,
   "metadata": {},
   "outputs": [],
   "source": [
    "# Splitting the dataset into the Training set and Test set\n",
    "\n",
    "from sklearn.model_selection import train_test_split \n",
    "\n",
    "X_train, X_test, Y_train, Y_test = train_test_split(x, y, test_size=1/3, random_state=0)\n",
    "# There are 63 observations or rows in the dataset. \n",
    "# This dataset is split into two - training data and testing data.\n",
    "# The ratio of split is given by the parameter test_size. \n",
    "# In this example test_size=1/3 says that 42 observations are used for training\n",
    "# and rest 21 observations are used for testing.\n"
   ]
  },
  {
   "cell_type": "code",
   "execution_count": 11,
   "metadata": {},
   "outputs": [
    {
     "data": {
      "text/plain": [
       "LinearRegression()"
      ]
     },
     "execution_count": 11,
     "metadata": {},
     "output_type": "execute_result"
    }
   ],
   "source": [
    "from sklearn.linear_model import LinearRegression\n",
    "# Create the model\n",
    "model = LinearRegression()\n",
    "\n",
    "# Train the model, using training data set\n",
    "model.fit(X_train, Y_train)\n"
   ]
  },
  {
   "cell_type": "markdown",
   "metadata": {},
   "source": [
    "## The coefficient and Intercept "
   ]
  },
  {
   "cell_type": "code",
   "execution_count": 12,
   "metadata": {},
   "outputs": [
    {
     "name": "stdout",
     "output_type": "stream",
     "text": [
      "Coefficient = Theta1 =  [[3.38384102]]\n",
      "Intercept = Theta0 =  [20.17489543]\n"
     ]
    }
   ],
   "source": [
    "# The coefficients\n",
    "\n",
    "# print the parameter theta1\n",
    "print('Coefficient = Theta1 = ', model.coef_)\n",
    "# print the parameter theta0\n",
    "print('Intercept = Theta0 = ', model.intercept_)"
   ]
  },
  {
   "cell_type": "code",
   "execution_count": 13,
   "metadata": {},
   "outputs": [
    {
     "data": {
      "image/png": "[encoded data removed]",
      "text/plain": [
       "<Figure size 432x288 with 1 Axes>"
      ]
     },
     "metadata": {
      "needs_background": "light"
     },
     "output_type": "display_data"
    }
   ],
   "source": [
    "# Visualize the fitted regression line\n",
    "\n",
    "plt.scatter(x, y, color='blue')\n",
    "plt.plot(X_train, model.predict(X_train), color='green')\n",
    "plt.title('Number of Claims VS Total payment in thousands (Observations)')\n",
    "plt.xlabel('Number of Claims')\n",
    "plt.ylabel('Total payment in thousands')\n",
    "plt.show()"
   ]
  },
  {
   "cell_type": "code",
   "execution_count": 84,
   "metadata": {},
   "outputs": [
    {
     "data": {
      "image/png": "[encoded data removed]",
      "text/plain": [
       "<Figure size 432x288 with 1 Axes>"
      ]
     },
     "metadata": {
      "needs_background": "light"
     },
     "output_type": "display_data"
    }
   ],
   "source": [
    "# Use trained model to predict on test dataset\n",
    "Y_predict = model.predict(X_test)\n",
    "plt.scatter(x, y, color='blue')\n",
    "plt.plot(X_test, model.predict(X_test), color='green')\n",
    "plt.title('Number of Claims VS Total payment in thousands ( Test Observations)')\n",
    "plt.xlabel('Number of Claims')\n",
    "plt.ylabel('Total payment in thousands')\n",
    "plt.show()"
   ]
  },
  {
   "cell_type": "markdown",
   "metadata": {},
   "source": [
    "# Error Term - Mean squared Error"
   ]
  },
  {
   "cell_type": "code",
   "execution_count": 69,
   "metadata": {},
   "outputs": [
    {
     "name": "stdout",
     "output_type": "stream",
     "text": [
      "Mean squared error = 1476.80\n",
      "RMSE = 38.43\n",
      "RSE = 39.054055343851296\n",
      "Variance R2 score = 0.63\n"
     ]
    }
   ],
   "source": [
    "from sklearn.metrics import mean_squared_error, r2_score\n",
    "\n",
    "# The mean squared error\n",
    "#Mean squared error regression loss\n",
    "mse = mean_squared_error(Y_test, Y_predict)\n",
    "print(\"Mean squared error = %.2f\" % mean_squared_error(Y_test, Y_predict))\n",
    "print(\"RMSE = %.2f\" % math.sqrt(mse))\n",
    "num_data = x.shape[0]\n",
    "rse = mse*num_data\n",
    "rse /= num_data-2\n",
    "rse = math.sqrt(rse)\n",
    "print(\"RSE =\",rse)\n",
    "# Explained variance score: 1 is perfect prediction.\n",
    "# R^2 (coefficient of determination) regression score function.\n",
    "# Best possible score is 1.0, a\n",
    "# a constant model that always predicts the expected value of y, disregarding the input features, \n",
    "#would get a R^2 score of 0.0.\n",
    "\n",
    "print('Variance R2 score = %.2f' % r2_score(Y_test, Y_predict))"
   ]
  },
  {
   "cell_type": "markdown",
   "metadata": {},
   "source": [
    "# Summary of findings\n",
    "We know, y = w0+w1x.\n",
    "From results w0= 20.17489543 and w1 = 3.38384102.\n",
    "Total payment = 20.17489543 + 3.38384102 (Number of Claims).\n",
    "Mean squared Error = 1476.80,\n",
    "Root Mean squared Error is 38.43,\n",
    "variance/R2 score of 1 is used to convey perfect prediction. From the results our Linear regression best fit model's variance score is 0.63 which is neither too good(close to 1) nor too bad(close to 0) to predict the total payment for a given claim.\n",
    "Residual standard error is 39.054055343851296 which represents the average variation around best fitted regression line.\n",
    "Suggestive to collect more data to predict more accurate model, atleast 100 rows of data set required against current 63.\n",
    "Also suggestive to get domain expert advice on determing other independent feature variables like age, gender, etc with its data. If we can get geographic zone information, we could try grouping data set based on zones and observe co-relation and could help find better fitting model.\n"
   ]
  },
  {
   "cell_type": "code",
   "execution_count": null,
   "metadata": {},
   "outputs": [],
   "source": []
  }
 ],
 "metadata": {
  "kernelspec": {
   "display_name": "Python 3 (ipykernel)",
   "language": "python",
   "name": "python3"
  },
  "language_info": {
   "codemirror_mode": {
    "name": "ipython",
    "version": 3
   },
   "file_extension": ".py",
   "mimetype": "text/x-python",
   "name": "python",
   "nbconvert_exporter": "python",
   "pygments_lexer": "ipython3",
   "version": "3.11.4"
  }
 },
 "nbformat": 4,
 "nbformat_minor": 4
}
