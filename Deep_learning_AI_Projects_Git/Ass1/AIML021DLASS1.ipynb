{
 "cells": [
  {
   "cell_type": "markdown",
   "metadata": {},
   "source": [
    "# QUESTION 1-"
   ]
  },
  {
   "cell_type": "code",
   "execution_count": 4,
   "metadata": {},
   "outputs": [],
   "source": [
    "import tensorflow.compat.v1 as tf\n",
    "tf.disable_v2_behavior()\n",
    "\n",
    "import tensorflow as tf\n",
    "from tensorflow.keras import models\n",
    "from tensorflow.keras import layers\n",
    "\n",
    "import matplotlib.pyplot as plt\n",
    "\n",
    "import random\n",
    "import numpy as np\n",
    "\n",
    "#Import required libraries \n",
    "import keras #library for neural network\n",
    "import pandas as pd #loading data in table form  \n",
    "import seaborn as sns #visualisation \n",
    "\n",
    "from sklearn.preprocessing import normalize #machine learning algorithm library\n",
    "\n",
    "\n",
    "from IPython.display import display, Image\n",
    "from pandas import get_dummies\n",
    "from sklearn.model_selection import train_test_split\n",
    "# Config the matlotlib backend as plotting inline in IPython\n",
    "%matplotlib inline"
   ]
  },
  {
   "cell_type": "code",
   "execution_count": 5,
   "metadata": {},
   "outputs": [],
   "source": [
    "NUM_FEATURES = 2\n",
    "NUM_ITER = 2000\n",
    "learning_rate = 0.1"
   ]
  },
  {
   "cell_type": "code",
   "execution_count": 8,
   "metadata": {},
   "outputs": [
    {
     "ename": "AttributeError",
     "evalue": "module 'tensorflow' has no attribute 'global_variables_initializer'",
     "output_type": "error",
     "traceback": [
      "\u001b[1;31m---------------------------------------------------------------------------\u001b[0m",
      "\u001b[1;31mAttributeError\u001b[0m                            Traceback (most recent call last)",
      "\u001b[1;32m<ipython-input-8-6eba0aee8072>\u001b[0m in \u001b[0;36m<module>\u001b[1;34m\u001b[0m\n\u001b[0;32m     68\u001b[0m \u001b[1;33m\u001b[0m\u001b[0m\n\u001b[0;32m     69\u001b[0m \u001b[0msess\u001b[0m \u001b[1;33m=\u001b[0m \u001b[0mtf\u001b[0m\u001b[1;33m.\u001b[0m\u001b[0mcompat\u001b[0m\u001b[1;33m.\u001b[0m\u001b[0mv1\u001b[0m\u001b[1;33m.\u001b[0m\u001b[0mSession\u001b[0m\u001b[1;33m(\u001b[0m\u001b[1;33m)\u001b[0m\u001b[1;33m\u001b[0m\u001b[1;33m\u001b[0m\u001b[0m\n\u001b[1;32m---> 70\u001b[1;33m \u001b[0minit\u001b[0m \u001b[1;33m=\u001b[0m \u001b[0mtf\u001b[0m\u001b[1;33m.\u001b[0m\u001b[0mglobal_variables_initializer\u001b[0m\u001b[1;33m(\u001b[0m\u001b[1;33m)\u001b[0m\u001b[1;33m\u001b[0m\u001b[1;33m\u001b[0m\u001b[0m\n\u001b[0m\u001b[0;32m     71\u001b[0m \u001b[0msess\u001b[0m\u001b[1;33m.\u001b[0m\u001b[0mrun\u001b[0m\u001b[1;33m(\u001b[0m\u001b[0minit\u001b[0m\u001b[1;33m)\u001b[0m\u001b[1;33m\u001b[0m\u001b[1;33m\u001b[0m\u001b[0m\n\u001b[0;32m     72\u001b[0m \u001b[1;33m\u001b[0m\u001b[0m\n",
      "\u001b[1;31mAttributeError\u001b[0m: module 'tensorflow' has no attribute 'global_variables_initializer'"
     ]
    }
   ],
   "source": [
    "x = np.array([[-3.98,-0.12],\n",
    "[-3.464,-2.11],\n",
    "[-3.461,1.89],\n",
    "[-2.22,-3.474],\n",
    "[-2.02,0.03],\n",
    "[-2.01,3.459],\n",
    "[-1.42,-1.409],\n",
    "[-1.416,1.419],\n",
    "[-1.09,0.08],\n",
    "[-0.19,-4.13],\n",
    "[0.01,1.02],\n",
    "[0.03,-2.12],\n",
    "[0.04,2.06],\n",
    "[0.06,3.97],\n",
    "[0.07,0.1],\n",
    "[0.12,-1.12],\n",
    "[1.11,0.09],\n",
    "[1.411,1.419],\n",
    "[1.414,-1.415],\n",
    "[1.86,3.47],\n",
    "[1.96,-0.12],\n",
    "[2.11,-3.472],\n",
    "[3.461,-1.87],\n",
    "[3.464,2.07],\n",
    "[4.12,0.09]], np.float32) # 4x2, input\n",
    "y = np.array([1,\n",
    "1,\n",
    "1,\n",
    "1,\n",
    "0,\n",
    "1,\n",
    "0,\n",
    "0,\n",
    "0,\n",
    "1,\n",
    "0,\n",
    "0,\n",
    "0,\n",
    "1,\n",
    "0,\n",
    "0,\n",
    "0,\n",
    "0,\n",
    "0,\n",
    "1,\n",
    "0,\n",
    "1,\n",
    "1,\n",
    "1,\n",
    "1], np.float32) # 4, correct output, AND operation\n",
    "#y = np.array([0, 1, 1, 1], np.float32) # OR operation\n",
    "y = np.reshape(y, [25,1]) # convert to 4x1\n",
    " \n",
    "X = tf.compat.v1.placeholder(tf.float32, shape=[25, 2])\n",
    "Y = tf.compat.v1.placeholder(tf.float32, shape=[25, 1])\n",
    " \n",
    "W = tf.Variable(tf.zeros([NUM_FEATURES, 1]), tf.float32)\n",
    "B = tf.Variable(tf.zeros([1, 1]), tf.float32)\n",
    " \n",
    "yHat = tf.sigmoid( tf.add(tf.matmul(X, W), B) ) # 4x1\n",
    "err = Y - yHat\n",
    "deltaW = tf.matmul(tf.transpose(X), err ) # have to be 2x1\n",
    "deltaB = tf.reduce_sum(err, 0) # 4, have to 1x1. sum all the biases? yes\n",
    "W_ = W + learning_rate * deltaW\n",
    "B_ = B + learning_rate * deltaB\n",
    " \n",
    "step = tf.group(W.assign(W_), B.assign(B_)) #to update the values of weights and biases.\n",
    " \n",
    "sess = tf.compat.v1.Session()\n",
    "init = tf.global_variables_initializer()\n",
    "sess.run(init)\n",
    " \n",
    "for k in range(NUM_ITER):\n",
    " #print(deltaW.eval())\n",
    " sess.run([step], feed_dict={X: x, Y: y})\n",
    " #print(\"\\n\")\n",
    " #print(k)\n",
    " #print (sess.run(W))\n",
    " \n",
    "W = np.squeeze(sess.run(W))\n",
    "b = np.squeeze(sess.run(B))\n",
    " \n",
    "# Now plot the fitted line. We need only two points to plot the line\n",
    "plot_x = np.array([np.min(x[:, 0] - 0.2), np.max(x[:, 1]+0.2)])\n",
    "plot_y = - 1 / W[1] * (W[0] * plot_x + b)\n",
    "plot_y = np.reshape(plot_y, [2, -1])\n",
    "plot_y = np.squeeze(plot_y)\n",
    " \n",
    "print('W: ' + str(W))\n",
    "print('b: ' + str(b))\n",
    "print('plot_y: '+ str(plot_y))\n",
    " \n",
    "plt.scatter(x[:, 0], x[:, 1], c=y, s=100, cmap='viridis')\n",
    "plt.plot(plot_x, plot_y, color='k', linewidth=2)\n",
    "#plt.xlim([-0.2, 1.2]); plt.ylim([-0.2, 1.25]);\n",
    "plt.show()"
   ]
  },
  {
   "cell_type": "markdown",
   "metadata": {},
   "source": [
    "# QUESTION 2"
   ]
  },
  {
   "cell_type": "code",
   "execution_count": null,
   "metadata": {},
   "outputs": [],
   "source": [
    "import os\n",
    "import matplotlib.pyplot as plt"
   ]
  },
  {
   "cell_type": "code",
   "execution_count": null,
   "metadata": {},
   "outputs": [],
   "source": [
    "import tensorflow.compat.v2 as tf\n",
    "#tf.enable_v2_behavior()"
   ]
  },
  {
   "cell_type": "code",
   "execution_count": null,
   "metadata": {},
   "outputs": [],
   "source": [
    "print(\"TensorFlow version: {}\".format(tf.__version__))\n",
    "print(\"Eager execution: {}\".format(tf.executing_eagerly()))"
   ]
  },
  {
   "cell_type": "code",
   "execution_count": null,
   "metadata": {},
   "outputs": [],
   "source": []
  },
  {
   "cell_type": "code",
   "execution_count": null,
   "metadata": {},
   "outputs": [],
   "source": []
  },
  {
   "cell_type": "code",
   "execution_count": null,
   "metadata": {},
   "outputs": [],
   "source": []
  },
  {
   "cell_type": "code",
   "execution_count": null,
   "metadata": {},
   "outputs": [],
   "source": []
  },
  {
   "cell_type": "code",
   "execution_count": null,
   "metadata": {},
   "outputs": [],
   "source": []
  },
  {
   "cell_type": "code",
   "execution_count": null,
   "metadata": {},
   "outputs": [],
   "source": []
  },
  {
   "cell_type": "code",
   "execution_count": null,
   "metadata": {},
   "outputs": [],
   "source": []
  }
 ],
 "metadata": {
  "kernelspec": {
   "display_name": "Python 3",
   "language": "python",
   "name": "python3"
  },
  "language_info": {
   "codemirror_mode": {
    "name": "ipython",
    "version": 3
   },
   "file_extension": ".py",
   "mimetype": "text/x-python",
   "name": "python",
   "nbconvert_exporter": "python",
   "pygments_lexer": "ipython3",
   "version": "3.8.5"
  }
 },
 "nbformat": 4,
 "nbformat_minor": 4
}
