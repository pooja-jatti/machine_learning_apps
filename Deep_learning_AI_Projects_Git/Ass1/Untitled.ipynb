{
 "cells": [
  {
   "cell_type": "code",
   "execution_count": 8,
   "metadata": {},
   "outputs": [
    {
     "name": "stdout",
     "output_type": "stream",
     "text": [
      "WARNING:tensorflow:From C:\\Users\\pjatthi\\Anaconda3\\lib\\site-packages\\tensorflow\\python\\compat\\v2_compat.py:96: disable_resource_variables (from tensorflow.python.ops.variable_scope) is deprecated and will be removed in a future version.\n",
      "Instructions for updating:\n",
      "non-resource variables are not supported in the long term\n"
     ]
    }
   ],
   "source": [
    "import tensorflow.compat.v1 as tf\n",
    "tf.disable_v2_behavior()\n",
    "\n",
    "from tensorflow.keras import models\n",
    "from tensorflow.keras import layers\n",
    "\n",
    "import matplotlib.pyplot as plt\n",
    "\n",
    "import random\n",
    "import numpy as np"
   ]
  },
  {
   "cell_type": "code",
   "execution_count": 24,
   "metadata": {},
   "outputs": [],
   "source": [
    "NUM_FEATURES = 2\n",
    "NUM_ITER = 2000\n",
    "learning_rate = 0.1"
   ]
  },
  {
   "cell_type": "code",
   "execution_count": 25,
   "metadata": {},
   "outputs": [
    {
     "name": "stdout",
     "output_type": "stream",
     "text": [
      "W: [0.5706535  0.53257656]\n",
      "b: -0.12361646\n",
      "plot_y: [ 4.7109623 -4.236027 ]\n"
     ]
    },
    {
     "data": {
      "image/png": "[encoded data removed]",
      "text/plain": [
       "<Figure size 432x288 with 1 Axes>"
      ]
     },
     "metadata": {
      "needs_background": "light"
     },
     "output_type": "display_data"
    }
   ],
   "source": [
    "x = np.array([[-3.98,-0.12],\n",
    "[-3.464,-2.11],\n",
    "[-3.461,1.89],\n",
    "[-2.22,-3.474],\n",
    "[-2.02,0.03],\n",
    "[-2.01,3.459],\n",
    "[-1.42,-1.409],\n",
    "[-1.416,1.419],\n",
    "[-1.09,0.08],\n",
    "[-0.19,-4.13],\n",
    "[0.01,1.02],\n",
    "[0.03,-2.12],\n",
    "[0.04,2.06],\n",
    "[0.06,3.97],\n",
    "[0.07,0.1],\n",
    "[0.12,-1.12],\n",
    "[1.11,0.09],\n",
    "[1.411,1.419],\n",
    "[1.414,-1.415],\n",
    "[1.86,3.47],\n",
    "[1.96,-0.12],\n",
    "[2.11,-3.472],\n",
    "[3.461,-1.87],\n",
    "[3.464,2.07],\n",
    "[4.12,0.09]], np.float32) # 4x2, input\n",
    "y = np.array([1,\n",
    "1,\n",
    "1,\n",
    "1,\n",
    "0,\n",
    "1,\n",
    "0,\n",
    "0,\n",
    "0,\n",
    "1,\n",
    "0,\n",
    "0,\n",
    "0,\n",
    "1,\n",
    "0,\n",
    "0,\n",
    "0,\n",
    "0,\n",
    "0,\n",
    "1,\n",
    "0,\n",
    "1,\n",
    "1,\n",
    "1,\n",
    "1], np.float32) # 4, correct output, AND operation\n",
    "#y = np.array([0, 1, 1, 1], np.float32) # OR operation\n",
    "y = np.reshape(y, [25,1]) # convert to 4x1\n",
    " \n",
    "X = tf.placeholder(tf.float32, shape=[25, 2])\n",
    "Y = tf.placeholder(tf.float32, shape=[25, 1])\n",
    " \n",
    "W = tf.Variable(tf.zeros([NUM_FEATURES, 1]), tf.float32)\n",
    "B = tf.Variable(tf.zeros([1, 1]), tf.float32)\n",
    " \n",
    "yHat = tf.sigmoid( tf.add(tf.matmul(X, W), B) ) # 4x1\n",
    "err = Y - yHat\n",
    "deltaW = tf.matmul(tf.transpose(X), err ) # have to be 2x1\n",
    "deltaB = tf.reduce_sum(err, 0) # 4, have to 1x1. sum all the biases? yes\n",
    "W_ = W + learning_rate * deltaW\n",
    "B_ = B + learning_rate * deltaB\n",
    " \n",
    "step = tf.group(W.assign(W_), B.assign(B_)) #to update the values of weights and biases.\n",
    " \n",
    "sess = tf.Session()\n",
    "init = tf.global_variables_initializer()\n",
    "sess.run(init)\n",
    " \n",
    "for k in range(NUM_ITER):\n",
    " sess.run([step], feed_dict={X: x, Y: y})\n",
    " \n",
    "W = np.squeeze(sess.run(W))\n",
    "b = np.squeeze(sess.run(B))\n",
    " \n",
    "# Now plot the fitted line. We need only two points to plot the line\n",
    "plot_x = np.array([np.min(x[:, 0] - 0.2), np.max(x[:, 1]+0.2)])\n",
    "plot_y = - 1 / W[1] * (W[0] * plot_x + b)\n",
    "plot_y = np.reshape(plot_y, [2, -1])\n",
    "plot_y = np.squeeze(plot_y)\n",
    " \n",
    "print('W: ' + str(W))\n",
    "print('b: ' + str(b))\n",
    "print('plot_y: '+ str(plot_y))\n",
    " \n",
    "plt.scatter(x[:, 0], x[:, 1], c=y, s=100, cmap='viridis')\n",
    "plt.plot(plot_x, plot_y, color='k', linewidth=2)\n",
    "#plt.xlim([-0.2, 1.2]); plt.ylim([-0.2, 1.25]);\n",
    "plt.show()"
   ]
  },
  {
   "cell_type": "code",
   "execution_count": 26,
   "metadata": {},
   "outputs": [
    {
     "name": "stdout",
     "output_type": "stream",
     "text": [
      "     5.1  3.5  1.4  0.2     Iris-setosa\n",
      "0    4.9  3.0  1.4  0.2     Iris-setosa\n",
      "1    4.7  3.2  1.3  0.2     Iris-setosa\n",
      "2    4.6  3.1  1.5  0.2     Iris-setosa\n",
      "3    5.0  3.6  1.4  0.2     Iris-setosa\n",
      "4    5.4  3.9  1.7  0.4     Iris-setosa\n",
      "..   ...  ...  ...  ...             ...\n",
      "144  6.7  3.0  5.2  2.3  Iris-virginica\n",
      "145  6.3  2.5  5.0  1.9  Iris-virginica\n",
      "146  6.5  3.0  5.2  2.0  Iris-virginica\n",
      "147  6.2  3.4  5.4  2.3  Iris-virginica\n",
      "148  5.9  3.0  5.1  1.8  Iris-virginica\n",
      "\n",
      "[149 rows x 5 columns]\n"
     ]
    }
   ],
   "source": [
    "import pandas as pd\n",
    "# reading csv files\n",
    "data =  pd.read_csv('iris.data', sep=\",\")\n",
    "print(data)"
   ]
  },
  {
   "cell_type": "code",
   "execution_count": 27,
   "metadata": {},
   "outputs": [
    {
     "ename": "ImportError",
     "evalue": "cannot import name 'to_categorical' from 'keras.utils' (C:\\Users\\pjatthi\\Anaconda3\\lib\\site-packages\\keras\\utils\\__init__.py)",
     "output_type": "error",
     "traceback": [
      "\u001b[1;31m---------------------------------------------------------------------------\u001b[0m",
      "\u001b[1;31mImportError\u001b[0m                               Traceback (most recent call last)",
      "\u001b[1;32m<ipython-input-27-3af57fe1c8fd>\u001b[0m in \u001b[0;36m<module>\u001b[1;34m\u001b[0m\n\u001b[0;32m      7\u001b[0m \u001b[1;32mfrom\u001b[0m \u001b[0mkeras\u001b[0m \u001b[1;32mimport\u001b[0m \u001b[0mmodels\u001b[0m\u001b[1;33m\u001b[0m\u001b[1;33m\u001b[0m\u001b[0m\n\u001b[0;32m      8\u001b[0m \u001b[1;32mfrom\u001b[0m \u001b[0mkeras\u001b[0m \u001b[1;32mimport\u001b[0m \u001b[0mlayers\u001b[0m\u001b[1;33m\u001b[0m\u001b[1;33m\u001b[0m\u001b[0m\n\u001b[1;32m----> 9\u001b[1;33m \u001b[1;32mfrom\u001b[0m \u001b[0mkeras\u001b[0m\u001b[1;33m.\u001b[0m\u001b[0mutils\u001b[0m \u001b[1;32mimport\u001b[0m \u001b[0mto_categorical\u001b[0m\u001b[1;33m\u001b[0m\u001b[1;33m\u001b[0m\u001b[0m\n\u001b[0m\u001b[0;32m     10\u001b[0m \u001b[1;31m#\u001b[0m\u001b[1;33m\u001b[0m\u001b[1;33m\u001b[0m\u001b[1;33m\u001b[0m\u001b[0m\n\u001b[0;32m     11\u001b[0m \u001b[1;31m# Create the network\u001b[0m\u001b[1;33m\u001b[0m\u001b[1;33m\u001b[0m\u001b[1;33m\u001b[0m\u001b[0m\n",
      "\u001b[1;31mImportError\u001b[0m: cannot import name 'to_categorical' from 'keras.utils' (C:\\Users\\pjatthi\\Anaconda3\\lib\\site-packages\\keras\\utils\\__init__.py)"
     ]
    }
   ],
   "source": [
    "import numpy as np\n",
    "from sklearn import datasets\n",
    "from sklearn.model_selection import train_test_split\n",
    "#\n",
    "# Import Keras modules\n",
    "#\n",
    "from keras import models\n",
    "from keras import layers\n",
    "from keras.utils import to_categorical\n",
    "#\n",
    "# Create the network\n",
    "#\n",
    "network = models.Sequential()\n",
    "network.add(layers.Dense(512, activation='relu', input_shape=(4,)))\n",
    "network.add(layers.Dense(3, activation='softmax'))\n",
    "#\n",
    "# Compile the network\n",
    "#\n",
    "network.compile(optimizer='rmsprop',\n",
    "                loss='categorical_crossentropy',\n",
    "                metrics=['accuracy'])\n",
    "#\n",
    "# Load the iris dataset\n",
    "#\n",
    "iris = datasets.load_iris()\n",
    "X = iris.data\n",
    "y = iris.target\n",
    "#\n",
    "# Create training and test split\n",
    "#\n",
    "X_train, X_test, y_train, y_test = train_test_split(X, y, test_size=0.3, stratify=y, random_state=42)\n",
    "#\n",
    "# Create categorical labels\n",
    "#\n",
    "train_labels = to_categorical(y_train)\n",
    "test_labels = to_categorical(y_test)\n",
    "#\n",
    "# Fit the neural network\n",
    "#\n",
    "network.fit(X_train, train_labels, epochs=20, batch_size=40)"
   ]
  },
  {
   "cell_type": "code",
   "execution_count": null,
   "metadata": {},
   "outputs": [],
   "source": [
    "#\n",
    "# Get the accuracy of test data set\n",
    "#\n",
    "test_loss, test_acc = network.evaluate(X_test, test_labels)\n",
    "#\n",
    "# Print the test accuracy\n",
    "#\n",
    "print('Test Accuracy: ', test_acc, '\\nTest Loss: ', test_loss)"
   ]
  },
  {
   "cell_type": "code",
   "execution_count": null,
   "metadata": {},
   "outputs": [],
   "source": []
  },
  {
   "cell_type": "code",
   "execution_count": null,
   "metadata": {},
   "outputs": [],
   "source": []
  },
  {
   "cell_type": "code",
   "execution_count": null,
   "metadata": {},
   "outputs": [],
   "source": []
  },
  {
   "cell_type": "code",
   "execution_count": null,
   "metadata": {},
   "outputs": [],
   "source": []
  },
  {
   "cell_type": "code",
   "execution_count": 14,
   "metadata": {},
   "outputs": [
    {
     "name": "stdout",
     "output_type": "stream",
     "text": [
      "W: [2.6895785 2.6895785]\n",
      "b: -4.26431\n",
      "plot_y: [1.7854937  0.38549364]\n"
     ]
    },
    {
     "data": {
      "image/png": "[encoded data removed]",
      "text/plain": [
       "<Figure size 432x288 with 1 Axes>"
      ]
     },
     "metadata": {
      "needs_background": "light"
     },
     "output_type": "display_data"
    }
   ],
   "source": [
    "x = np.array([[0, 0], [1, 0], [1, 1], [0, 1]], np.float32) # 4x2, input\n",
    "y = np.array([0, 0, 1, 0], np.float32) # 4, correct output, AND operation\n",
    "#y = np.array([0, 1, 1, 1], np.float32) # OR operation\n",
    "y = np.reshape(y, [4,1]) # convert to 4x1\n",
    " \n",
    "X = tf.placeholder(tf.float32, shape=[4, 2])\n",
    "Y = tf.placeholder(tf.float32, shape=[4, 1])\n",
    " \n",
    "W = tf.Variable(tf.zeros([NUM_FEATURES, 1]), tf.float32)\n",
    "B = tf.Variable(tf.zeros([1, 1]), tf.float32)\n",
    " \n",
    "yHat = tf.sigmoid( tf.add(tf.matmul(X, W), B) ) # 4x1\n",
    "err = Y - yHat\n",
    "deltaW = tf.matmul(tf.transpose(X), err ) # have to be 2x1\n",
    "deltaB = tf.reduce_sum(err, 0) # 4, have to 1x1. sum all the biases? yes\n",
    "W_ = W + learning_rate * deltaW\n",
    "B_ = B + learning_rate * deltaB\n",
    " \n",
    "step = tf.group(W.assign(W_), B.assign(B_)) #to update the values of weights and biases.\n",
    " \n",
    "sess = tf.Session()\n",
    "init = tf.global_variables_initializer()\n",
    "sess.run(init)\n",
    " \n",
    "for k in range(NUM_ITER):\n",
    " sess.run([step], feed_dict={X: x, Y: y})\n",
    " \n",
    "W = np.squeeze(sess.run(W))\n",
    "b = np.squeeze(sess.run(B))\n",
    " \n",
    "# Now plot the fitted line. We need only two points to plot the line\n",
    "plot_x = np.array([np.min(x[:, 0] - 0.2), np.max(x[:, 1]+0.2)])\n",
    "plot_y = - 1 / W[1] * (W[0] * plot_x + b)\n",
    "plot_y = np.reshape(plot_y, [2, -1])\n",
    "plot_y = np.squeeze(plot_y)\n",
    " \n",
    "print('W: ' + str(W))\n",
    "print('b: ' + str(b))\n",
    "print('plot_y: '+ str(plot_y))\n",
    " \n",
    "plt.scatter(x[:, 0], x[:, 1], c=y, s=100, cmap='viridis')\n",
    "plt.plot(plot_x, plot_y, color='k', linewidth=2)\n",
    "plt.xlim([-0.2, 1.2]); plt.ylim([-0.2, 1.25]);\n",
    "plt.show()"
   ]
  },
  {
   "cell_type": "code",
   "execution_count": null,
   "metadata": {},
   "outputs": [],
   "source": []
  }
 ],
 "metadata": {
  "kernelspec": {
   "display_name": "Python 3",
   "language": "python",
   "name": "python3"
  },
  "language_info": {
   "codemirror_mode": {
    "name": "ipython",
    "version": 3
   },
   "file_extension": ".py",
   "mimetype": "text/x-python",
   "name": "python",
   "nbconvert_exporter": "python",
   "pygments_lexer": "ipython3",
   "version": "3.8.5"
  }
 },
 "nbformat": 4,
 "nbformat_minor": 4
}
