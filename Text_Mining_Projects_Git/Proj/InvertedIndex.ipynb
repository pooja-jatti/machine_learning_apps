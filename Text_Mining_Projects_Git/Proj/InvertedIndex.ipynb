{
 "cells": [
  {
   "cell_type": "code",
   "execution_count": 3,
   "metadata": {},
   "outputs": [
    {
     "data": {
      "text/plain": [
       "'This is the first word.\\nThis is the second text, Hello! How are you?\\nThis is the third line, Hope all well.\\nThis is last sentence now.'"
      ]
     },
     "execution_count": 3,
     "metadata": {},
     "output_type": "execute_result"
    }
   ],
   "source": [
    "# this will open the file\n",
    "file = open(\"C://Users//Admin//Desktop//IR//inverteIndex//file.txt\", \"r\")\n",
    "read = file.read()\n",
    "file.seek(0)\n",
    "read"
   ]
  },
  {
   "cell_type": "code",
   "execution_count": 4,
   "metadata": {},
   "outputs": [
    {
     "name": "stdout",
     "output_type": "stream",
     "text": [
      "Number of lines in file is:  4\n"
     ]
    }
   ],
   "source": [
    "# to obtain the\n",
    "# number of lines\n",
    "# in file\n",
    "line = 1\n",
    "for word in read:\n",
    "    if word == '\\n':\n",
    "        line += 1\n",
    "print(\"Number of lines in file is: \", line)"
   ]
  },
  {
   "cell_type": "code",
   "execution_count": 5,
   "metadata": {},
   "outputs": [
    {
     "data": {
      "text/plain": [
       "['This is the first word.\\n',\n",
       " 'This is the second text, Hello! How are you?\\n',\n",
       " 'This is the third line, Hope all well.\\n',\n",
       " 'This is last sentence now.']"
      ]
     },
     "execution_count": 5,
     "metadata": {},
     "output_type": "execute_result"
    }
   ],
   "source": [
    "# create a list to\n",
    "# store each line as\n",
    "# an element of list\n",
    "array = []\n",
    "for i in range(line):\n",
    "    array.append(file.readline())\n",
    "  \n",
    "array"
   ]
  },
  {
   "cell_type": "code",
   "execution_count": 6,
   "metadata": {},
   "outputs": [
    {
     "data": {
      "text/plain": [
       "'this is the first word \\nthis is the second text  hello  how are you \\nthis is the third line  hope all well \\nthis is last sentence now '"
      ]
     },
     "execution_count": 6,
     "metadata": {},
     "output_type": "execute_result"
    }
   ],
   "source": [
    "punc = '''!()-[]{};:'\"\\, <>./?@#$%^&*_~'''\n",
    "for ele in read:  \n",
    "    if ele in punc:  \n",
    "        read = read.replace(ele, \" \")  \n",
    "          \n",
    "read\n",
    "  \n",
    "# to maintain uniformity\n",
    "read=read.lower()                    \n",
    "read"
   ]
  },
  {
   "cell_type": "code",
   "execution_count": 7,
   "metadata": {},
   "outputs": [
    {
     "name": "stderr",
     "output_type": "stream",
     "text": [
      "[nltk_data] Downloading package stopwords to\n",
      "[nltk_data]     C:\\Users\\Admin\\AppData\\Roaming\\nltk_data...\n",
      "[nltk_data]   Package stopwords is already up-to-date!\n"
     ]
    },
    {
     "name": "stdout",
     "output_type": "stream",
     "text": [
      "['first', 'word', 'second', 'text', 'hello', 'third', 'line', 'hope', 'well', 'last', 'sentence']\n"
     ]
    }
   ],
   "source": [
    "from nltk.tokenize import word_tokenize\n",
    "import nltk\n",
    "from nltk.corpus import stopwords\n",
    "nltk.download('stopwords')\n",
    "  \n",
    "for i in range(1):\n",
    "    # this will convert\n",
    "    # the word into tokens\n",
    "    text_tokens = word_tokenize(read)\n",
    "  \n",
    "tokens_without_sw = [\n",
    "    word for word in text_tokens if not word in stopwords.words()]\n",
    "  \n",
    "print(tokens_without_sw)"
   ]
  },
  {
   "cell_type": "code",
   "execution_count": 26,
   "metadata": {},
   "outputs": [
    {
     "data": {
      "text/plain": [
       "{'first': [1],\n",
       " 'word': [1],\n",
       " 'second': [2],\n",
       " 'text': [2],\n",
       " 'hello': [2],\n",
       " 'third': [3],\n",
       " 'line': [3],\n",
       " 'hope': [3],\n",
       " 'well': [3],\n",
       " 'last': [4],\n",
       " 'sentence': [4]}"
      ]
     },
     "execution_count": 26,
     "metadata": {},
     "output_type": "execute_result"
    }
   ],
   "source": [
    "dict = {}\n",
    "  \n",
    "for i in range(line):\n",
    "    check = array[i].lower()\n",
    "    for item in tokens_without_sw:\n",
    "  \n",
    "        if item in check:\n",
    "            if item not in dict:\n",
    "                dict[item] = []\n",
    "  \n",
    "            if item in dict:\n",
    "                dict[item].append(i+1)\n",
    "  \n",
    "dict"
   ]
  }
 ],
 "metadata": {
  "kernelspec": {
   "display_name": "Python 3 (ipykernel)",
   "language": "python",
   "name": "python3"
  },
  "language_info": {
   "codemirror_mode": {
    "name": "ipython",
    "version": 3
   },
   "file_extension": ".py",
   "mimetype": "text/x-python",
   "name": "python",
   "nbconvert_exporter": "python",
   "pygments_lexer": "ipython3",
   "version": "3.11.4"
  }
 },
 "nbformat": 4,
 "nbformat_minor": 2
}
