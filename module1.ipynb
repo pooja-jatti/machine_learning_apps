{
 "cells": [
  {
   "cell_type": "code",
   "execution_count": 1,
   "id": "f85c0c28",
   "metadata": {
    "execution": {
     "iopub.execute_input": "2023-10-19T03:50:46.847554Z",
     "iopub.status.busy": "2023-10-19T03:50:46.847149Z",
     "iopub.status.idle": "2023-10-19T03:50:46.857156Z",
     "shell.execute_reply": "2023-10-19T03:50:46.856125Z"
    },
    "papermill": {
     "duration": 0.015754,
     "end_time": "2023-10-19T03:50:46.859166",
     "exception": false,
     "start_time": "2023-10-19T03:50:46.843412",
     "status": "completed"
    },
    "tags": []
   },
   "outputs": [],
   "source": [
    "def SayHello(name, course):\n",
    "   print (\"Hi {}! How are you?\".format(name))\n",
    "   print (\"Welcome to {} Tutorial by TutorialsPoint\".format(course))\n",
    "   return"
   ]
  },
  {
   "cell_type": "code",
   "execution_count": null,
   "id": "979410a4",
   "metadata": {
    "papermill": {
     "duration": 0.001032,
     "end_time": "2023-10-19T03:50:46.861857",
     "exception": false,
     "start_time": "2023-10-19T03:50:46.860825",
     "status": "completed"
    },
    "tags": []
   },
   "outputs": [],
   "source": []
  }
 ],
 "metadata": {
  "kernelspec": {
   "display_name": "Python 3",
   "language": "python",
   "name": "python3"
  },
  "language_info": {
   "codemirror_mode": {
    "name": "ipython",
    "version": 3
   },
   "file_extension": ".py",
   "mimetype": "text/x-python",
   "name": "python",
   "nbconvert_exporter": "python",
   "pygments_lexer": "ipython3",
   "version": "3.10.12"
  },
  "papermill": {
   "default_parameters": {},
   "duration": 3.349361,
   "end_time": "2023-10-19T03:50:47.181750",
   "environment_variables": {},
   "exception": null,
   "input_path": "__notebook__.ipynb",
   "output_path": "__notebook__.ipynb",
   "parameters": {},
   "start_time": "2023-10-19T03:50:43.832389",
   "version": "2.4.0"
  }
 },
 "nbformat": 4,
 "nbformat_minor": 5
}
