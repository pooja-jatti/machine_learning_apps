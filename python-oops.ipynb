{
 "cells": [
  {
   "cell_type": "code",
   "execution_count": 1,
   "id": "01bcc3bc",
   "metadata": {
    "_cell_guid": "b1076dfc-b9ad-4769-8c92-a6c4dae69d19",
    "_uuid": "8f2839f25d086af736a60e9eeb907d3b93b6e0e5",
    "execution": {
     "iopub.execute_input": "2023-10-19T03:51:43.266372Z",
     "iopub.status.busy": "2023-10-19T03:51:43.265654Z",
     "iopub.status.idle": "2023-10-19T03:51:43.274343Z",
     "shell.execute_reply": "2023-10-19T03:51:43.273356Z"
    },
    "papermill": {
     "duration": 0.023647,
     "end_time": "2023-10-19T03:51:43.276826",
     "exception": false,
     "start_time": "2023-10-19T03:51:43.253179",
     "status": "completed"
    },
    "tags": []
   },
   "outputs": [],
   "source": [
    "class Car:\n",
    "    'Base class for cars'\n",
    "    pass\n",
    "\n",
    "c1 =Car()"
   ]
  },
  {
   "cell_type": "code",
   "execution_count": 2,
   "id": "3a6ce858",
   "metadata": {
    "execution": {
     "iopub.execute_input": "2023-10-19T03:51:43.294951Z",
     "iopub.status.busy": "2023-10-19T03:51:43.294143Z",
     "iopub.status.idle": "2023-10-19T03:51:43.302378Z",
     "shell.execute_reply": "2023-10-19T03:51:43.300827Z"
    },
    "papermill": {
     "duration": 0.019918,
     "end_time": "2023-10-19T03:51:43.304782",
     "exception": false,
     "start_time": "2023-10-19T03:51:43.284864",
     "status": "completed"
    },
    "tags": []
   },
   "outputs": [
    {
     "name": "stdout",
     "output_type": "stream",
     "text": [
      "Employee.__doc__: None\n",
      "Employee.__name__: Employee\n",
      "Employee.__module__: __main__\n",
      "Employee.__bases__: (<class 'object'>,)\n",
      "Employee.__dict__: {'__module__': '__main__', '__init__': <function Employee.__init__ at 0x78fbf7db2290>, 'displayEmployee': <function Employee.displayEmployee at 0x78fbf7db2320>, '__dict__': <attribute '__dict__' of 'Employee' objects>, '__weakref__': <attribute '__weakref__' of 'Employee' objects>, '__doc__': None}\n"
     ]
    }
   ],
   "source": [
    "class Employee:\n",
    "   def __init__(self, name=\"Bhavana\", age=24):\n",
    "      self.name = name\n",
    "      self.age = age\n",
    "   def displayEmployee(self):\n",
    "      print (\"Name : \", self.name, \", age: \", self.age)\n",
    "\n",
    "print (\"Employee.__doc__:\", Employee.__doc__)\n",
    "print (\"Employee.__name__:\", Employee.__name__)\n",
    "print (\"Employee.__module__:\", Employee.__module__)\n",
    "print (\"Employee.__bases__:\", Employee.__bases__)\n",
    "print (\"Employee.__dict__:\", Employee.__dict__ )"
   ]
  },
  {
   "cell_type": "code",
   "execution_count": 3,
   "id": "a31353ed",
   "metadata": {
    "execution": {
     "iopub.execute_input": "2023-10-19T03:51:43.322676Z",
     "iopub.status.busy": "2023-10-19T03:51:43.322011Z",
     "iopub.status.idle": "2023-10-19T03:51:43.330206Z",
     "shell.execute_reply": "2023-10-19T03:51:43.328844Z"
    },
    "papermill": {
     "duration": 0.019598,
     "end_time": "2023-10-19T03:51:43.332349",
     "exception": false,
     "start_time": "2023-10-19T03:51:43.312751",
     "status": "completed"
    },
    "tags": []
   },
   "outputs": [
    {
     "name": "stdout",
     "output_type": "stream",
     "text": [
      "Name:  Bhavana Age:  24\n",
      "Employee Number: 1\n",
      "Name:  Rajesh Age:  26\n",
      "Employee Number: 2\n",
      "Name:  John Age:  27\n",
      "Employee Number: 3\n",
      "Name:  Anil Age:  21\n",
      "Employee Number: 4\n",
      "4\n"
     ]
    }
   ],
   "source": [
    "class Employee:\n",
    "   empCount = 0 #class attribute available to class and methods\n",
    "   def __init__(self, name, age): #called automatically parameterized constructor\n",
    "      self.__name = name\n",
    "      self.__age = age\n",
    "      Employee.empCount += 1 #access class variable using class reference\n",
    "      print (\"Name: \", self.__name, \"Age: \", self.__age)\n",
    "      print (\"Employee Number:\", Employee.empCount)\n",
    "\n",
    "   #def showcount(self):\n",
    "         #print (self.empCount)\n",
    "   #counter=classmethod(showcount) #  decorator @classmethod can be used instead\n",
    "   #@staticmethod\n",
    "   #def showcount():\n",
    "   #         print (Employee.empCount)\n",
    "   #         return\n",
    "   #counter = staticmethod(showcount) #decorator @staticmethod can be used. call-using object or class name\n",
    "   @classmethod\n",
    "   def showcount(cls):\n",
    "        print (cls.empCount)\n",
    "        return\n",
    "   @classmethod\n",
    "   def newemployee(cls, name, age):\n",
    "        return cls(name, age)\n",
    "\n",
    "e1 = Employee(\"Bhavana\", 24)\n",
    "e2 = Employee(\"Rajesh\", 26)\n",
    "e3 = Employee(\"John\", 27)\n",
    "e4 = Employee.newemployee(\"Anil\", 21)\n",
    "\n",
    "Employee.showcount()"
   ]
  },
  {
   "cell_type": "code",
   "execution_count": 4,
   "id": "5e4a1504",
   "metadata": {
    "execution": {
     "iopub.execute_input": "2023-10-19T03:51:43.349755Z",
     "iopub.status.busy": "2023-10-19T03:51:43.349389Z",
     "iopub.status.idle": "2023-10-19T03:51:43.356152Z",
     "shell.execute_reply": "2023-10-19T03:51:43.354774Z"
    },
    "papermill": {
     "duration": 0.018428,
     "end_time": "2023-10-19T03:51:43.358662",
     "exception": false,
     "start_time": "2023-10-19T03:51:43.340234",
     "status": "completed"
    },
    "tags": []
   },
   "outputs": [
    {
     "name": "stdout",
     "output_type": "stream",
     "text": [
      "Name :  Bhavana , age:  24\n",
      "Name :  Bharat , age:  25\n"
     ]
    }
   ],
   "source": [
    "class Employee:\n",
    "   def __init__(self, name=\"Bhavana\", age=24):\n",
    "      self.name = name\n",
    "      self.age = age\n",
    "   def displayEmployee(self): #instance methods\n",
    "      print (\"Name : \", self.name, \", age: \", self.age)\n",
    "\n",
    "e1 = Employee()\n",
    "e2 = Employee(\"Bharat\", 25)\n",
    "\n",
    "e1.displayEmployee()\n",
    "e2.displayEmployee()"
   ]
  },
  {
   "cell_type": "code",
   "execution_count": 5,
   "id": "cd7d7b59",
   "metadata": {
    "execution": {
     "iopub.execute_input": "2023-10-19T03:51:43.376083Z",
     "iopub.status.busy": "2023-10-19T03:51:43.375717Z",
     "iopub.status.idle": "2023-10-19T03:51:43.381519Z",
     "shell.execute_reply": "2023-10-19T03:51:43.380542Z"
    },
    "papermill": {
     "duration": 0.016999,
     "end_time": "2023-10-19T03:51:43.383504",
     "exception": false,
     "start_time": "2023-10-19T03:51:43.366505",
     "status": "completed"
    },
    "tags": []
   },
   "outputs": [
    {
     "name": "stdout",
     "output_type": "stream",
     "text": [
      "Pooja 30\n",
      "Divya 29\n"
     ]
    }
   ],
   "source": [
    "class Employee:\n",
    "    def __init__(self,name,age):\n",
    "        self.name = name\n",
    "        self.age = age\n",
    "    def displayEmp(self):\n",
    "        print(self.name,self.age)\n",
    "\n",
    "e1 = Employee(\"Pooja\",30)\n",
    "e2= Employee(\"Divya\",29)\n",
    "\n",
    "e1.displayEmp()\n",
    "e2.displayEmp()"
   ]
  },
  {
   "cell_type": "code",
   "execution_count": 6,
   "id": "c5274c8f",
   "metadata": {
    "execution": {
     "iopub.execute_input": "2023-10-19T03:51:43.400866Z",
     "iopub.status.busy": "2023-10-19T03:51:43.400498Z",
     "iopub.status.idle": "2023-10-19T03:51:43.406171Z",
     "shell.execute_reply": "2023-10-19T03:51:43.404738Z"
    },
    "papermill": {
     "duration": 0.017361,
     "end_time": "2023-10-19T03:51:43.408852",
     "exception": false,
     "start_time": "2023-10-19T03:51:43.391491",
     "status": "completed"
    },
    "tags": []
   },
   "outputs": [
    {
     "name": "stdout",
     "output_type": "stream",
     "text": [
      "True\n",
      "Pooja\n"
     ]
    }
   ],
   "source": [
    "#Access using getter and setter methods\n",
    "\n",
    "print (hasattr(e1, 'age')) # Returns true if 'salary' attribute exists\n",
    "print (getattr(e1, 'name')) # Returns value of 'name' attribute\n",
    "setattr(e1, 'age', 70) # Set attribute 'salary' at 8\n",
    "#delattr(e1, 'age') # Delete attribute 'age'"
   ]
  },
  {
   "cell_type": "code",
   "execution_count": 7,
   "id": "580e08d1",
   "metadata": {
    "execution": {
     "iopub.execute_input": "2023-10-19T03:51:43.426812Z",
     "iopub.status.busy": "2023-10-19T03:51:43.426424Z",
     "iopub.status.idle": "2023-10-19T03:51:43.431276Z",
     "shell.execute_reply": "2023-10-19T03:51:43.429972Z"
    },
    "papermill": {
     "duration": 0.016932,
     "end_time": "2023-10-19T03:51:43.433643",
     "exception": false,
     "start_time": "2023-10-19T03:51:43.416711",
     "status": "completed"
    },
    "tags": []
   },
   "outputs": [],
   "source": [
    "#Usually, methods are defined as public and instance variable are private. This arrangement of private instance variables and public methods ensures implementation of principle of encapsulation.\n",
    "\n",
    "#Protected members are accessible from within the class as well as by classes derived from that class."
   ]
  },
  {
   "cell_type": "code",
   "execution_count": 8,
   "id": "7247299b",
   "metadata": {
    "execution": {
     "iopub.execute_input": "2023-10-19T03:51:43.460579Z",
     "iopub.status.busy": "2023-10-19T03:51:43.460223Z",
     "iopub.status.idle": "2023-10-19T03:51:43.467030Z",
     "shell.execute_reply": "2023-10-19T03:51:43.466047Z"
    },
    "papermill": {
     "duration": 0.019328,
     "end_time": "2023-10-19T03:51:43.470126",
     "exception": false,
     "start_time": "2023-10-19T03:51:43.450798",
     "status": "completed"
    },
    "tags": []
   },
   "outputs": [
    {
     "name": "stdout",
     "output_type": "stream",
     "text": [
      "Bhavana\n",
      "10000\n",
      "24\n"
     ]
    }
   ],
   "source": [
    "class Employee:\n",
    "   def __init__(self, name, age, salary):\n",
    "      self.name = name # public variable\n",
    "      self.__age = age # private variable\n",
    "      self._salary = salary # protected variable\n",
    "   def displayEmployee(self):\n",
    "      print (\"Name : \", self.name, \", age: \", self.__age, \", salary: \", self._salary)\n",
    "\n",
    "e1=Employee(\"Bhavana\", 24, 10000)\n",
    "\n",
    "print (e1.name)\n",
    "print (e1._salary)\n",
    "#print (e1.__age)\n",
    "print (e1._Employee__age) #name mangling not recormmended obj._class__privatevar"
   ]
  },
  {
   "cell_type": "code",
   "execution_count": 9,
   "id": "886f53fb",
   "metadata": {
    "execution": {
     "iopub.execute_input": "2023-10-19T03:51:43.489056Z",
     "iopub.status.busy": "2023-10-19T03:51:43.488549Z",
     "iopub.status.idle": "2023-10-19T03:51:43.495882Z",
     "shell.execute_reply": "2023-10-19T03:51:43.495186Z"
    },
    "papermill": {
     "duration": 0.019886,
     "end_time": "2023-10-19T03:51:43.498316",
     "exception": false,
     "start_time": "2023-10-19T03:51:43.478430",
     "status": "completed"
    },
    "tags": []
   },
   "outputs": [
    {
     "name": "stdout",
     "output_type": "stream",
     "text": [
      "div 2.0\n",
      "mod 0\n",
      "div_mod (2.0, 0)\n"
     ]
    }
   ],
   "source": [
    "#inheritance\n",
    "\n",
    "class Division:\n",
    "    def __init__(self,a,b):\n",
    "        self.n = a\n",
    "        self.d = b\n",
    "    \n",
    "    def divide(self):\n",
    "        return self.n/self.d\n",
    "    \n",
    "class Modulus:\n",
    "    def __init__(self,a,b):\n",
    "        self.n = a\n",
    "        self.d= b\n",
    "    \n",
    "    def modulus(self):\n",
    "        return self.n%self.d\n",
    "    \n",
    "class Mod_Div(Division,Modulus):\n",
    "    def __int__(self,a,b):\n",
    "        self.n =a\n",
    "        self.d =b\n",
    "    def div_and_mod(self):\n",
    "        divval = Division.divide(self)\n",
    "        modval = Modulus.modulus(self)\n",
    "        return (divval,modval)\n",
    "    \n",
    "x = Mod_Div(4,2)\n",
    "print(\"div\",x.divide())\n",
    "print(\"mod\",x.modulus())\n",
    "print(\"div_mod\",x.div_and_mod())"
   ]
  },
  {
   "cell_type": "code",
   "execution_count": 10,
   "id": "2fc22f12",
   "metadata": {
    "execution": {
     "iopub.execute_input": "2023-10-19T03:51:43.515904Z",
     "iopub.status.busy": "2023-10-19T03:51:43.515516Z",
     "iopub.status.idle": "2023-10-19T03:51:43.522407Z",
     "shell.execute_reply": "2023-10-19T03:51:43.521351Z"
    },
    "papermill": {
     "duration": 0.01804,
     "end_time": "2023-10-19T03:51:43.524394",
     "exception": false,
     "start_time": "2023-10-19T03:51:43.506354",
     "status": "completed"
    },
    "tags": []
   },
   "outputs": [
    {
     "name": "stdout",
     "output_type": "stream",
     "text": [
      "Draw a circle\n",
      "Draw a rectangle\n"
     ]
    }
   ],
   "source": [
    "#polymorphism- morph function in different contexts- abstract method\n",
    "from abc import ABC, abstractmethod\n",
    "class shape(ABC):\n",
    "   @abstractmethod #deine abstract method\n",
    "   def draw(self):\n",
    "      \"Abstract method\"\n",
    "      return\n",
    "\n",
    "class circle(shape):\n",
    "   def draw(self):\n",
    "      super().draw() #call super abstract method\n",
    "      print (\"Draw a circle\")\n",
    "      return\n",
    "\n",
    "class rectangle(shape):\n",
    "   def draw(self):\n",
    "      super().draw()\n",
    "      print (\"Draw a rectangle\")\n",
    "      return\n",
    "\n",
    "shapes = [circle(), rectangle()] #shapes has two objects circle and rectange\n",
    "for shp in shapes:\n",
    "   shp.draw()"
   ]
  },
  {
   "cell_type": "code",
   "execution_count": 11,
   "id": "47b187df",
   "metadata": {
    "execution": {
     "iopub.execute_input": "2023-10-19T03:51:43.543612Z",
     "iopub.status.busy": "2023-10-19T03:51:43.542351Z",
     "iopub.status.idle": "2023-10-19T03:51:43.550382Z",
     "shell.execute_reply": "2023-10-19T03:51:43.549195Z"
    },
    "papermill": {
     "duration": 0.020274,
     "end_time": "2023-10-19T03:51:43.552654",
     "exception": false,
     "start_time": "2023-10-19T03:51:43.532380",
     "status": "completed"
    },
    "tags": []
   },
   "outputs": [
    {
     "name": "stdout",
     "output_type": "stream",
     "text": [
      "Total salary for Rajesh is Rs 9000\n",
      "Total salary for Kiran is Rs 11000\n"
     ]
    }
   ],
   "source": [
    "class Employee:\n",
    "   def __init__(self,nm, sal):\n",
    "      self.name=nm\n",
    "      self.salary=sal\n",
    "   def getName(self):\n",
    "      return self.name\n",
    "   def getSalary(self):\n",
    "      return self.salary\n",
    "\n",
    "class SalesOfficer(Employee):\n",
    "   def __init__(self,nm, sal, inc):\n",
    "      super().__init__(nm,sal)\n",
    "      self.incnt=inc\n",
    "   def getSalary(self):\n",
    "      return self.salary+self.incnt #method overriding\n",
    "\n",
    "e1=Employee(\"Rajesh\", 9000)\n",
    "print (\"Total salary for {} is Rs {}\".format(e1.getName(),e1.getSalary()))\n",
    "s1=SalesOfficer('Kiran', 10000, 1000)\n",
    "print (\"Total salary for {} is Rs {}\".format(s1.getName(),s1.getSalary()))"
   ]
  },
  {
   "cell_type": "code",
   "execution_count": 12,
   "id": "0983f38e",
   "metadata": {
    "execution": {
     "iopub.execute_input": "2023-10-19T03:51:43.571632Z",
     "iopub.status.busy": "2023-10-19T03:51:43.571262Z",
     "iopub.status.idle": "2023-10-19T03:51:43.588183Z",
     "shell.execute_reply": "2023-10-19T03:51:43.586287Z"
    },
    "papermill": {
     "duration": 0.029747,
     "end_time": "2023-10-19T03:51:43.590817",
     "exception": false,
     "start_time": "2023-10-19T03:51:43.561070",
     "status": "completed"
    },
    "tags": []
   },
   "outputs": [
    {
     "name": "stdout",
     "output_type": "stream",
     "text": [
      "60\n",
      "30\n"
     ]
    }
   ],
   "source": [
    "#python does not support method overloading as it loads latest method definition- different functions based on number of args and types\n",
    "#can be supported using @dispatch(int,int)\n",
    "\n",
    "from multipledispatch import dispatch\n",
    "class example:\n",
    "   @dispatch(int, int)\n",
    "   def add(self, a, b):\n",
    "      x = a+b\n",
    "      return x\n",
    "   @dispatch(int, int, int)\n",
    "   def add(self, a, b, c):\n",
    "      x = a+b+c\n",
    "      return x\n",
    "\n",
    "obj = example()\n",
    "\n",
    "print (obj.add(10,20,30))\n",
    "print (obj.add(10,20))"
   ]
  },
  {
   "cell_type": "code",
   "execution_count": 13,
   "id": "99b45ca8",
   "metadata": {
    "execution": {
     "iopub.execute_input": "2023-10-19T03:51:43.609538Z",
     "iopub.status.busy": "2023-10-19T03:51:43.609126Z",
     "iopub.status.idle": "2023-10-19T03:51:43.617007Z",
     "shell.execute_reply": "2023-10-19T03:51:43.615756Z"
    },
    "papermill": {
     "duration": 0.020397,
     "end_time": "2023-10-19T03:51:43.619651",
     "exception": false,
     "start_time": "2023-10-19T03:51:43.599254",
     "status": "completed"
    },
    "tags": []
   },
   "outputs": [
    {
     "name": "stdout",
     "output_type": "stream",
     "text": [
      "Draw a circle\n",
      "Draw a rectangle\n"
     ]
    }
   ],
   "source": [
    "#In Python, dynamic binding is the process of resolving a method or attribute at runtime, instead of at compile time.\n",
    "\n",
    "class shape:\n",
    "   def draw(self):\n",
    "      print (\"draw method\")\n",
    "      return\n",
    "\n",
    "class circle(shape):\n",
    "   def draw(self):\n",
    "      print (\"Draw a circle\")\n",
    "      return\n",
    "\n",
    "class rectangle(shape):\n",
    "   def draw(self):\n",
    "      print (\"Draw a rectangle\")\n",
    "      return\n",
    "\n",
    "shapes = [circle(), rectangle()]\n",
    "for shp in shapes:\n",
    "   shp.draw() #function to call is decided at run time based on type of object"
   ]
  },
  {
   "cell_type": "code",
   "execution_count": 14,
   "id": "572243e5",
   "metadata": {
    "execution": {
     "iopub.execute_input": "2023-10-19T03:51:43.638136Z",
     "iopub.status.busy": "2023-10-19T03:51:43.637754Z",
     "iopub.status.idle": "2023-10-19T03:51:43.643950Z",
     "shell.execute_reply": "2023-10-19T03:51:43.643211Z"
    },
    "papermill": {
     "duration": 0.018148,
     "end_time": "2023-10-19T03:51:43.646249",
     "exception": false,
     "start_time": "2023-10-19T03:51:43.628101",
     "status": "completed"
    },
    "tags": []
   },
   "outputs": [
    {
     "name": "stdout",
     "output_type": "stream",
     "text": [
      "abstract method\n",
      "concrete method\n"
     ]
    }
   ],
   "source": [
    "#abstraction-abstract class\n",
    "from abc import ABC, abstractmethod\n",
    "class democlass(ABC):\n",
    "   @abstractmethod\n",
    "   def method1(self):\n",
    "      print (\"abstract method\")\n",
    "      return\n",
    "   def method2(self):\n",
    "      print (\"concrete method\")\n",
    "\n",
    "class concreteclass(democlass):\n",
    "   def method1(self):\n",
    "      super().method1()\n",
    "      return\n",
    "      \n",
    "obj = concreteclass()\n",
    "obj.method1()\n",
    "obj.method2()"
   ]
  },
  {
   "cell_type": "code",
   "execution_count": 15,
   "id": "f80bdbe7",
   "metadata": {
    "execution": {
     "iopub.execute_input": "2023-10-19T03:51:43.664768Z",
     "iopub.status.busy": "2023-10-19T03:51:43.664401Z",
     "iopub.status.idle": "2023-10-19T03:51:43.670202Z",
     "shell.execute_reply": "2023-10-19T03:51:43.669407Z"
    },
    "papermill": {
     "duration": 0.017594,
     "end_time": "2023-10-19T03:51:43.672239",
     "exception": false,
     "start_time": "2023-10-19T03:51:43.654645",
     "status": "completed"
    },
    "tags": []
   },
   "outputs": [
    {
     "name": "stdout",
     "output_type": "stream",
     "text": [
      "Name: Rajaram marks: 50\n",
      "Name: Bharat marks: 25\n"
     ]
    }
   ],
   "source": [
    "class Student:\n",
    "\n",
    "   def __init__(self, name=\"Rajaram\", marks=50):\n",
    "      self.__name = name\n",
    "      self.__marks = marks\n",
    "   def studentdata(self):\n",
    "      print (\"Name: {} marks: {}\".format(self.__name, self.__marks))\n",
    "      \n",
    "s1 = Student()\n",
    "s2 = Student(\"Bharat\", 25)\n",
    "\n",
    "s1.studentdata()\n",
    "s2.studentdata()\n",
    "#print (\"Name: {} marks: {}\".format(s1.__name, s2.__marks))\n",
    "#print (\"Name: {} marks: {}\".format(s2.__name, __s2.marks)) #fails"
   ]
  },
  {
   "cell_type": "code",
   "execution_count": 16,
   "id": "bba41487",
   "metadata": {
    "execution": {
     "iopub.execute_input": "2023-10-19T03:51:43.691154Z",
     "iopub.status.busy": "2023-10-19T03:51:43.690764Z",
     "iopub.status.idle": "2023-10-19T03:51:43.694585Z",
     "shell.execute_reply": "2023-10-19T03:51:43.693573Z"
    },
    "papermill": {
     "duration": 0.016365,
     "end_time": "2023-10-19T03:51:43.696846",
     "exception": false,
     "start_time": "2023-10-19T03:51:43.680481",
     "status": "completed"
    },
    "tags": []
   },
   "outputs": [],
   "source": [
    "#python interface is by defining abstact class with @abstractmethod\n",
    "#python packages - setup.py can be defines at outer level to import some at start. also __init__.py"
   ]
  },
  {
   "cell_type": "code",
   "execution_count": 17,
   "id": "a81d80d5",
   "metadata": {
    "execution": {
     "iopub.execute_input": "2023-10-19T03:51:43.718308Z",
     "iopub.status.busy": "2023-10-19T03:51:43.717941Z",
     "iopub.status.idle": "2023-10-19T03:51:43.724852Z",
     "shell.execute_reply": "2023-10-19T03:51:43.723850Z"
    },
    "papermill": {
     "duration": 0.01944,
     "end_time": "2023-10-19T03:51:43.727134",
     "exception": false,
     "start_time": "2023-10-19T03:51:43.707694",
     "status": "completed"
    },
    "tags": []
   },
   "outputs": [
    {
     "name": "stdout",
     "output_type": "stream",
     "text": [
      "Name: Ashish\n",
      "Subjects: Phy Che\n"
     ]
    }
   ],
   "source": [
    "#Inner class has local scope. Outer class instantiates 2 variables of inner class\n",
    "class student:\n",
    "   def __init__(self):\n",
    "      self.name = \"Ashish\"\n",
    "      self.subs = self.subjects()\n",
    "      return\n",
    "   def show(self):\n",
    "      print (\"Name:\", self.name)\n",
    "      self.subs.display()\n",
    "   class subjects:\n",
    "      def __init__(self):\n",
    "         self.sub1 = \"Phy\"\n",
    "         self.sub2 = \"Che\"\n",
    "         return\n",
    "      def display(self):\n",
    "         print (\"Subjects:\",self.sub1, self.sub2)\n",
    "         \n",
    "s1 = student()\n",
    "s1.show()"
   ]
  },
  {
   "cell_type": "code",
   "execution_count": 18,
   "id": "75bc0e15",
   "metadata": {
    "execution": {
     "iopub.execute_input": "2023-10-19T03:51:43.748314Z",
     "iopub.status.busy": "2023-10-19T03:51:43.747961Z",
     "iopub.status.idle": "2023-10-19T03:51:43.753923Z",
     "shell.execute_reply": "2023-10-19T03:51:43.752947Z"
    },
    "papermill": {
     "duration": 0.020167,
     "end_time": "2023-10-19T03:51:43.756271",
     "exception": false,
     "start_time": "2023-10-19T03:51:43.736104",
     "status": "completed"
    },
    "tags": []
   },
   "outputs": [
    {
     "name": "stdout",
     "output_type": "stream",
     "text": [
      "Creating the object\n",
      "<__main__.SingletonClass object at 0x78fbf7db7460>\n",
      "<__main__.SingletonClass object at 0x78fbf7db7460>\n"
     ]
    }
   ],
   "source": [
    "#A Singleton class is a class of which only one object can be created. This helps in optimizing memory usage when you perform some heavy operation, like creating a database connection.\n",
    "\n",
    "class SingletonClass:\n",
    "   _instance = None\n",
    "   \n",
    "   def __new__(cls):\n",
    "      if cls._instance is None:\n",
    "         print('Creating the object')\n",
    "         cls._instance = super(SingletonClass, cls).__new__(cls)\n",
    "      return cls._instance\n",
    "      \n",
    "obj1 = SingletonClass()\n",
    "print(obj1)\n",
    "\n",
    "obj2 = SingletonClass()\n",
    "print(obj2)"
   ]
  },
  {
   "cell_type": "code",
   "execution_count": 19,
   "id": "c0d5f56d",
   "metadata": {
    "execution": {
     "iopub.execute_input": "2023-10-19T03:51:43.775374Z",
     "iopub.status.busy": "2023-10-19T03:51:43.775040Z",
     "iopub.status.idle": "2023-10-19T03:51:43.783045Z",
     "shell.execute_reply": "2023-10-19T03:51:43.781833Z"
    },
    "papermill": {
     "duration": 0.020705,
     "end_time": "2023-10-19T03:51:43.785453",
     "exception": false,
     "start_time": "2023-10-19T03:51:43.764748",
     "status": "completed"
    },
    "tags": []
   },
   "outputs": [
    {
     "data": {
      "text/plain": [
       "4"
      ]
     },
     "execution_count": 19,
     "metadata": {},
     "output_type": "execute_result"
    }
   ],
   "source": [
    "#wrapper class in python can be implemented using decorator functions\n",
    "def positive_input(func):\n",
    "    def wrapper(x):\n",
    "        if x <= 0:\n",
    "            raise ValueError(\"Input must be positive\")\n",
    "        return func(x)\n",
    "    return wrapper\n",
    "\n",
    "@positive_input\n",
    "def square(x):\n",
    "    return x**2\n",
    "\n",
    "square(2)\n",
    "#square(-1) #raises value error"
   ]
  },
  {
   "cell_type": "code",
   "execution_count": 20,
   "id": "ddc3796b",
   "metadata": {
    "execution": {
     "iopub.execute_input": "2023-10-19T03:51:43.804193Z",
     "iopub.status.busy": "2023-10-19T03:51:43.803764Z",
     "iopub.status.idle": "2023-10-19T03:51:43.811194Z",
     "shell.execute_reply": "2023-10-19T03:51:43.809934Z"
    },
    "papermill": {
     "duration": 0.019937,
     "end_time": "2023-10-19T03:51:43.813953",
     "exception": false,
     "start_time": "2023-10-19T03:51:43.794016",
     "status": "completed"
    },
    "tags": []
   },
   "outputs": [
    {
     "name": "stdout",
     "output_type": "stream",
     "text": [
      "<enum 'subjects'> MATHS 2\n",
      "ENGLISH 1\n",
      "MATHS 2\n",
      "SCIENCE 3\n",
      "SANSKRIT 4\n"
     ]
    }
   ],
   "source": [
    "#enum\n",
    "from enum import Enum\n",
    "\n",
    "class subjects(Enum):\n",
    "   ENGLISH = 1\n",
    "   MATHS = 2\n",
    "   SCIENCE = 3\n",
    "   SANSKRIT = 4\n",
    "    \n",
    "obj = subjects.MATHS\n",
    "print (type(obj), obj.name,obj.value)\n",
    "\n",
    "for sub in subjects:\n",
    "   print (sub.name, sub.value)"
   ]
  },
  {
   "cell_type": "code",
   "execution_count": 21,
   "id": "e809e80f",
   "metadata": {
    "execution": {
     "iopub.execute_input": "2023-10-19T03:51:43.832739Z",
     "iopub.status.busy": "2023-10-19T03:51:43.832335Z",
     "iopub.status.idle": "2023-10-19T03:51:43.838918Z",
     "shell.execute_reply": "2023-10-19T03:51:43.837511Z"
    },
    "papermill": {
     "duration": 0.018965,
     "end_time": "2023-10-19T03:51:43.841472",
     "exception": false,
     "start_time": "2023-10-19T03:51:43.822507",
     "status": "completed"
    },
    "tags": []
   },
   "outputs": [],
   "source": [
    "from enum import Enum, unique\n",
    "\n",
    "@unique\n",
    "class subjects(Enum):\n",
    "   ENGLISH = 1\n",
    "   MATHS = 2\n",
    "   GEOGRAPHY = 3\n",
    "   #SANSKRIT = 2 #raises error if not unique"
   ]
  },
  {
   "cell_type": "code",
   "execution_count": 22,
   "id": "51113429",
   "metadata": {
    "execution": {
     "iopub.execute_input": "2023-10-19T03:51:43.861295Z",
     "iopub.status.busy": "2023-10-19T03:51:43.860917Z",
     "iopub.status.idle": "2023-10-19T03:51:43.868080Z",
     "shell.execute_reply": "2023-10-19T03:51:43.867056Z"
    },
    "papermill": {
     "duration": 0.019658,
     "end_time": "2023-10-19T03:51:43.870131",
     "exception": false,
     "start_time": "2023-10-19T03:51:43.850473",
     "status": "completed"
    },
    "tags": []
   },
   "outputs": [
    {
     "name": "stdout",
     "output_type": "stream",
     "text": [
      "True\n",
      "True\n",
      "True\n",
      "True\n",
      "True\n",
      "True\n",
      "False\n",
      "True\n",
      "False\n",
      "True\n"
     ]
    }
   ],
   "source": [
    "class test:\n",
    "   pass\n",
    "   \n",
    "print (isinstance(int, object))\n",
    "print (isinstance(str, object))\n",
    "print (isinstance(test, object))\n",
    "\n",
    "class test:\n",
    "   pass\n",
    "   \n",
    "print (issubclass(int, object))\n",
    "print (issubclass(str, object))\n",
    "print (issubclass(test, object))\n",
    "\n",
    "def test():\n",
    "   pass\n",
    "   \n",
    "print (callable(\"Hello\"))\n",
    "print (callable(abs))\n",
    "print (callable(list.clear([1,2])))\n",
    "print (callable(test))"
   ]
  },
  {
   "cell_type": "markdown",
   "id": "4c281c75",
   "metadata": {
    "papermill": {
     "duration": 0.00803,
     "end_time": "2023-10-19T03:51:43.886796",
     "exception": false,
     "start_time": "2023-10-19T03:51:43.878766",
     "status": "completed"
    },
    "tags": []
   },
   "source": [
    "#Exception\n",
    "object\n",
    "   BaseException\n",
    "      Exception\n",
    "         ArithmeticError\n",
    "            FloatingPointError\n",
    "            OverflowError\n",
    "            ZeroDivisionError\n",
    "         AssertionError\n",
    "         AttributeError\n",
    "         BufferError\n",
    "         EOFError\n",
    "         ImportError\n",
    "            ModuleNotFoundError\n",
    "         LookupError\n",
    "            IndexError\n",
    "            KeyError\n",
    "         MemoryError\n",
    "         NameError\n",
    "         OSError\n",
    "         ReferenceError\n",
    "         RuntimeError\n",
    "         StopAsyncIteration\n",
    "         StopIteration\n",
    "         SyntaxError"
   ]
  },
  {
   "cell_type": "code",
   "execution_count": 23,
   "id": "0b0bbc74",
   "metadata": {
    "execution": {
     "iopub.execute_input": "2023-10-19T03:51:43.905793Z",
     "iopub.status.busy": "2023-10-19T03:51:43.905406Z",
     "iopub.status.idle": "2023-10-19T03:51:43.912421Z",
     "shell.execute_reply": "2023-10-19T03:51:43.911129Z"
    },
    "papermill": {
     "duration": 0.019459,
     "end_time": "2023-10-19T03:51:43.914809",
     "exception": false,
     "start_time": "2023-10-19T03:51:43.895350",
     "status": "completed"
    },
    "tags": []
   },
   "outputs": [
    {
     "name": "stdout",
     "output_type": "stream",
     "text": [
      "Written content in the file successfully\n"
     ]
    }
   ],
   "source": [
    "try:\n",
    "   fh = open(\"testfile\", \"w\")\n",
    "   fh.write(\"This is my test file for exception handling!!\")\n",
    "except IOError:\n",
    "   print (\"Error: can\\'t find file or read data\")\n",
    "else:\n",
    "   print (\"Written content in the file successfully\")\n",
    "   fh.close()"
   ]
  },
  {
   "cell_type": "code",
   "execution_count": 24,
   "id": "ec6e13c0",
   "metadata": {
    "execution": {
     "iopub.execute_input": "2023-10-19T03:51:44.031731Z",
     "iopub.status.busy": "2023-10-19T03:51:44.031392Z",
     "iopub.status.idle": "2023-10-19T03:51:44.038647Z",
     "shell.execute_reply": "2023-10-19T03:51:44.037313Z"
    },
    "papermill": {
     "duration": 0.020571,
     "end_time": "2023-10-19T03:51:44.040750",
     "exception": false,
     "start_time": "2023-10-19T03:51:44.020179",
     "status": "completed"
    },
    "tags": []
   },
   "outputs": [
    {
     "name": "stdout",
     "output_type": "stream",
     "text": [
      "Going to close the file\n"
     ]
    }
   ],
   "source": [
    "try:\n",
    "   fh = open(\"testfile\", \"w\")\n",
    "   try:\n",
    "      fh.write(\"This is my test file for exception handling!!\")\n",
    "   finally:\n",
    "      print (\"Going to close the file\")\n",
    "      fh.close()\n",
    "except IOError:\n",
    "   print (\"Error: can\\'t find file or read data\")"
   ]
  },
  {
   "cell_type": "markdown",
   "id": "0214e0a4",
   "metadata": {
    "papermill": {
     "duration": 0.00865,
     "end_time": "2023-10-19T03:51:44.058318",
     "exception": false,
     "start_time": "2023-10-19T03:51:44.049668",
     "status": "completed"
    },
    "tags": []
   },
   "source": [
    "When an exception is thrown in the try block, the execution immediately passes to the finally block. After all the statements in the finally block are executed, the exception is raised again and is handled in the except statements if present in the next higher layer of the try-except statement."
   ]
  },
  {
   "cell_type": "code",
   "execution_count": 25,
   "id": "ca7fdb2d",
   "metadata": {
    "execution": {
     "iopub.execute_input": "2023-10-19T03:51:44.078027Z",
     "iopub.status.busy": "2023-10-19T03:51:44.077619Z",
     "iopub.status.idle": "2023-10-19T03:51:44.083867Z",
     "shell.execute_reply": "2023-10-19T03:51:44.082589Z"
    },
    "papermill": {
     "duration": 0.018671,
     "end_time": "2023-10-19T03:51:44.086005",
     "exception": false,
     "start_time": "2023-10-19T03:51:44.067334",
     "status": "completed"
    },
    "tags": []
   },
   "outputs": [
    {
     "name": "stdout",
     "output_type": "stream",
     "text": [
      "The argument does not contain numbers\n",
      " invalid literal for int() with base 10: 'xyz'\n"
     ]
    }
   ],
   "source": [
    "# Define a function here.\n",
    "def temp_convert(var):\n",
    "   try:\n",
    "      return int(var)\n",
    "   except ValueError as Argument:\n",
    "      print(\"The argument does not contain numbers\\n\",Argument)\n",
    "# Call above function here.\n",
    "temp_convert(\"xyz\")"
   ]
  },
  {
   "cell_type": "code",
   "execution_count": 26,
   "id": "ef749171",
   "metadata": {
    "execution": {
     "iopub.execute_input": "2023-10-19T03:51:44.105841Z",
     "iopub.status.busy": "2023-10-19T03:51:44.105485Z",
     "iopub.status.idle": "2023-10-19T03:51:44.112308Z",
     "shell.execute_reply": "2023-10-19T03:51:44.111069Z"
    },
    "papermill": {
     "duration": 0.019803,
     "end_time": "2023-10-19T03:51:44.114836",
     "exception": false,
     "start_time": "2023-10-19T03:51:44.095033",
     "status": "completed"
    },
    "tags": []
   },
   "outputs": [
    {
     "name": "stdout",
     "output_type": "stream",
     "text": [
      "error in level argument -10\n"
     ]
    }
   ],
   "source": [
    "def functionName( level ):\n",
    "   if level <1:\n",
    "      raise Exception(level) #raise\n",
    "      # The code below to this would not be executed\n",
    "      # if we raise the exception\n",
    "   return level\n",
    "   \n",
    "try:\n",
    "   l=functionName(-10)\n",
    "   print (\"level=\",l)\n",
    "except Exception as e:\n",
    "   print (\"error in level argument\",e.args[0])"
   ]
  },
  {
   "cell_type": "code",
   "execution_count": 27,
   "id": "7e11e54a",
   "metadata": {
    "execution": {
     "iopub.execute_input": "2023-10-19T03:51:44.134697Z",
     "iopub.status.busy": "2023-10-19T03:51:44.134336Z",
     "iopub.status.idle": "2023-10-19T03:51:44.139291Z",
     "shell.execute_reply": "2023-10-19T03:51:44.137977Z"
    },
    "papermill": {
     "duration": 0.017936,
     "end_time": "2023-10-19T03:51:44.141704",
     "exception": false,
     "start_time": "2023-10-19T03:51:44.123768",
     "status": "completed"
    },
    "tags": []
   },
   "outputs": [],
   "source": [
    "try:\n",
    "    pass\n",
    "   #open(\"nofile.txt\")\n",
    "except OSError:\n",
    "   raise RuntimeError(\"unable to handle error\")"
   ]
  },
  {
   "cell_type": "code",
   "execution_count": 28,
   "id": "dba15e4b",
   "metadata": {
    "execution": {
     "iopub.execute_input": "2023-10-19T03:51:44.161811Z",
     "iopub.status.busy": "2023-10-19T03:51:44.161471Z",
     "iopub.status.idle": "2023-10-19T03:51:44.169504Z",
     "shell.execute_reply": "2023-10-19T03:51:44.167993Z"
    },
    "papermill": {
     "duration": 0.02086,
     "end_time": "2023-10-19T03:51:44.171871",
     "exception": false,
     "start_time": "2023-10-19T03:51:44.151011",
     "status": "completed"
    },
    "tags": []
   },
   "outputs": [
    {
     "name": "stdout",
     "output_type": "stream",
     "text": [
      "The exception was TypeError('TypeError')\n",
      "Its __context__ was ValueError('ValueError')\n",
      "Its __cause__ was ValueError('ValueError')\n"
     ]
    }
   ],
   "source": [
    "try:\n",
    "   try:\n",
    "      raise ValueError(\"ValueError\")\n",
    "   except ValueError as e1:\n",
    "      raise TypeError(\"TypeError\") from e1\n",
    "except TypeError as e2:\n",
    "   print(\"The exception was\", repr(e2))\n",
    "   print(\"Its __context__ was\", repr(e2.__context__)) #\n",
    "   print(\"Its __cause__ was\", repr(e2.__cause__))#"
   ]
  },
  {
   "cell_type": "code",
   "execution_count": 29,
   "id": "d637e1ca",
   "metadata": {
    "execution": {
     "iopub.execute_input": "2023-10-19T03:51:44.191732Z",
     "iopub.status.busy": "2023-10-19T03:51:44.191297Z",
     "iopub.status.idle": "2023-10-19T03:51:44.197633Z",
     "shell.execute_reply": "2023-10-19T03:51:44.196419Z"
    },
    "papermill": {
     "duration": 0.019014,
     "end_time": "2023-10-19T03:51:44.199539",
     "exception": false,
     "start_time": "2023-10-19T03:51:44.180525",
     "status": "completed"
    },
    "tags": []
   },
   "outputs": [
    {
     "name": "stdout",
     "output_type": "stream",
     "text": [
      "This is outer try block\n",
      "Division by 0\n",
      "inside inner finally block\n",
      "inside outer finally block\n"
     ]
    }
   ],
   "source": [
    "#nested try\n",
    "a=10\n",
    "b=0\n",
    "try:\n",
    "   print (\"This is outer try block\")\n",
    "   try:\n",
    "      print (a/b)\n",
    "   except ZeroDivisionError:\n",
    "      print (\"Division by 0\")\n",
    "   finally:\n",
    "      print (\"inside inner finally block\")\n",
    "      \n",
    "except Exception:\n",
    "   print (\"General Exception\")\n",
    "finally:\n",
    "   print (\"inside outer finally block\")"
   ]
  },
  {
   "cell_type": "code",
   "execution_count": 30,
   "id": "a9f6a825",
   "metadata": {
    "execution": {
     "iopub.execute_input": "2023-10-19T03:51:44.219341Z",
     "iopub.status.busy": "2023-10-19T03:51:44.218872Z",
     "iopub.status.idle": "2023-10-19T03:51:44.225771Z",
     "shell.execute_reply": "2023-10-19T03:51:44.224494Z"
    },
    "papermill": {
     "duration": 0.019845,
     "end_time": "2023-10-19T03:51:44.228105",
     "exception": false,
     "start_time": "2023-10-19T03:51:44.208260",
     "status": "completed"
    },
    "tags": []
   },
   "outputs": [
    {
     "name": "stdout",
     "output_type": "stream",
     "text": [
      "Marks obtained: 10\n"
     ]
    }
   ],
   "source": [
    "#user defined exception\n",
    "class MyException(Exception):\n",
    "   \"Invalid marks\"\n",
    "   pass\n",
    "   \n",
    "num = 10\n",
    "try:\n",
    "   if num <0 or num>100:\n",
    "      raise MyException\n",
    "except MyException as e:\n",
    "   print (\"Invalid marks:\", num)\n",
    "else:\n",
    "   print (\"Marks obtained:\", num)"
   ]
  },
  {
   "cell_type": "code",
   "execution_count": 31,
   "id": "aeaccb30",
   "metadata": {
    "execution": {
     "iopub.execute_input": "2023-10-19T03:51:44.247696Z",
     "iopub.status.busy": "2023-10-19T03:51:44.247355Z",
     "iopub.status.idle": "2023-10-19T03:51:44.252998Z",
     "shell.execute_reply": "2023-10-19T03:51:44.251985Z"
    },
    "papermill": {
     "duration": 0.018172,
     "end_time": "2023-10-19T03:51:44.254942",
     "exception": false,
     "start_time": "2023-10-19T03:51:44.236770",
     "status": "completed"
    },
    "tags": []
   },
   "outputs": [],
   "source": [
    "import logging\n",
    "\n",
    "logging.debug('This is a debug message')\n",
    "logging.info('This is an info message')\n",
    "logging.warning('This is a warning message')\n",
    "logging.error('This is an error message')\n",
    "logging.critical('This is a critical message')"
   ]
  },
  {
   "cell_type": "code",
   "execution_count": 32,
   "id": "05ee3382",
   "metadata": {
    "execution": {
     "iopub.execute_input": "2023-10-19T03:51:44.275189Z",
     "iopub.status.busy": "2023-10-19T03:51:44.274775Z",
     "iopub.status.idle": "2023-10-19T03:51:44.280373Z",
     "shell.execute_reply": "2023-10-19T03:51:44.279264Z"
    },
    "papermill": {
     "duration": 0.018952,
     "end_time": "2023-10-19T03:51:44.283018",
     "exception": false,
     "start_time": "2023-10-19T03:51:44.264066",
     "status": "completed"
    },
    "tags": []
   },
   "outputs": [],
   "source": [
    "#logging\n",
    "import logging\n",
    "\n",
    "logging.basicConfig(filename='logs.txt', filemode='w', level=logging.DEBUG)\n",
    "logging.warning('This messagewill be saved to a file')"
   ]
  },
  {
   "cell_type": "code",
   "execution_count": 33,
   "id": "7e3d3c42",
   "metadata": {
    "execution": {
     "iopub.execute_input": "2023-10-19T03:51:44.304656Z",
     "iopub.status.busy": "2023-10-19T03:51:44.303483Z",
     "iopub.status.idle": "2023-10-19T03:51:44.309519Z",
     "shell.execute_reply": "2023-10-19T03:51:44.308230Z"
    },
    "papermill": {
     "duration": 0.018732,
     "end_time": "2023-10-19T03:51:44.311654",
     "exception": false,
     "start_time": "2023-10-19T03:51:44.292922",
     "status": "completed"
    },
    "tags": []
   },
   "outputs": [],
   "source": [
    "import logging\n",
    "\n",
    "logging.basicConfig(level=logging.DEBUG)\n",
    "marks = 120\n",
    "logging.error(\"Invalid marks:{} Marks must be between 0 to 100\".format(marks))\n",
    "subjects = [\"Phy\", \"Maths\"]\n",
    "logging.warning(\"Number of subjects: {}. Should be at least three\".format(len(subjects)))"
   ]
  },
  {
   "cell_type": "code",
   "execution_count": 34,
   "id": "4107b472",
   "metadata": {
    "execution": {
     "iopub.execute_input": "2023-10-19T03:51:44.332036Z",
     "iopub.status.busy": "2023-10-19T03:51:44.331643Z",
     "iopub.status.idle": "2023-10-19T03:51:44.335927Z",
     "shell.execute_reply": "2023-10-19T03:51:44.335244Z"
    },
    "papermill": {
     "duration": 0.017656,
     "end_time": "2023-10-19T03:51:44.338607",
     "exception": false,
     "start_time": "2023-10-19T03:51:44.320951",
     "status": "completed"
    },
    "tags": []
   },
   "outputs": [
    {
     "name": "stdout",
     "output_type": "stream",
     "text": [
      "10\n"
     ]
    }
   ],
   "source": [
    "try:\n",
    "   num=10\n",
    "   assert (num >=0), \"only non negative numbers accepted\"\n",
    "   print (num)\n",
    "except AssertionError as msg:\n",
    "   print (msg)"
   ]
  },
  {
   "cell_type": "code",
   "execution_count": 35,
   "id": "f606f973",
   "metadata": {
    "execution": {
     "iopub.execute_input": "2023-10-19T03:51:44.359068Z",
     "iopub.status.busy": "2023-10-19T03:51:44.358484Z",
     "iopub.status.idle": "2023-10-19T03:51:44.364339Z",
     "shell.execute_reply": "2023-10-19T03:51:44.363346Z"
    },
    "papermill": {
     "duration": 0.019006,
     "end_time": "2023-10-19T03:51:44.367050",
     "exception": false,
     "start_time": "2023-10-19T03:51:44.348044",
     "status": "completed"
    },
    "tags": []
   },
   "outputs": [
    {
     "name": "stdout",
     "output_type": "stream",
     "text": [
      "13\n"
     ]
    }
   ],
   "source": [
    "x = lambda a, b, c : a + b + c\n",
    "print(x(5, 6, 2))"
   ]
  }
 ],
 "metadata": {
  "kernelspec": {
   "display_name": "Python 3",
   "language": "python",
   "name": "python3"
  },
  "language_info": {
   "codemirror_mode": {
    "name": "ipython",
    "version": 3
   },
   "file_extension": ".py",
   "mimetype": "text/x-python",
   "name": "python",
   "nbconvert_exporter": "python",
   "pygments_lexer": "ipython3",
   "version": "3.10.12"
  },
  "papermill": {
   "default_parameters": {},
   "duration": 5.023673,
   "end_time": "2023-10-19T03:51:44.897016",
   "environment_variables": {},
   "exception": null,
   "input_path": "__notebook__.ipynb",
   "output_path": "__notebook__.ipynb",
   "parameters": {},
   "start_time": "2023-10-19T03:51:39.873343",
   "version": "2.4.0"
  }
 },
 "nbformat": 4,
 "nbformat_minor": 5
}
